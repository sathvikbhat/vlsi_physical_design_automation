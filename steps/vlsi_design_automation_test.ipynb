{
 "cells": [
  {
   "cell_type": "markdown",
   "metadata": {},
   "source": [
    "# VLSI Design Automation Implementation\n",
    "\n",
    "### Import All the libraries along with the src code of the project contained in *vlsi_design_automation.py* file\n",
    "\n",
    "#### Note: PIL library is used to view the floorplan, placement and routing layouts."
   ]
  },
  {
   "cell_type": "code",
   "execution_count": null,
   "metadata": {},
   "outputs": [],
   "source": [
    "import sys\n",
    "import random\n",
    "import numpy\n",
    "import math\n",
    "import matplotlib.pyplot as plt\n",
    "import PIL\n",
    "from PIL import Image, ImageDraw\n",
    "\n",
    "from vlsi_design_automation import *"
   ]
  },
  {
   "cell_type": "markdown",
   "metadata": {},
   "source": [
    "### Graph Creation\n",
    "Create an object of the class *'undirected_graph'* which contains all function needed to implement the VLSI Design Flow. The input to the obejct initialization method is the filename for the netlist to be implemented.\n",
    "### Graph Visualization\n",
    "The *print_graph* method of the class object prints out all the nodes in the graph along with its adjacent nodes and edge weights.\n",
    "#### Note: The edge weights are initialized randomly using the *random.randint* function."
   ]
  },
  {
   "cell_type": "code",
   "execution_count": null,
   "metadata": {},
   "outputs": [],
   "source": [
    "graph = undirected_graph('s27.bench')\n",
    "graph.print_graph()"
   ]
  },
  {
   "cell_type": "markdown",
   "metadata": {},
   "source": [
    "### Adjacency Matrix\n",
    "Adjacency Matrix is another method to visualize a graph structure. The value A[i][j] in the matrix denotes the edge weight between nodes *i* and *j*. A[i][j] == 0 denotes no edge between nodes."
   ]
  },
  {
   "cell_type": "code",
   "execution_count": null,
   "metadata": {},
   "outputs": [],
   "source": [
    "graph.print_adjacency_matrix()"
   ]
  },
  {
   "cell_type": "markdown",
   "metadata": {},
   "source": [
    "### Breadth First Search\n",
    "The method *bfs* of the class object takes a *nodename* as input and generates a **Breadth First Search** output along with the distance from the starting node."
   ]
  },
  {
   "cell_type": "code",
   "execution_count": null,
   "metadata": {},
   "outputs": [],
   "source": [
    "graph.bfs('G0')"
   ]
  },
  {
   "cell_type": "markdown",
   "metadata": {},
   "source": [
    "### Depth First Search\n",
    "The method *dfs* of the class object takes a *nodename* as input and generates a **Depth First Search** output with *nodename* as the starting node."
   ]
  },
  {
   "cell_type": "code",
   "execution_count": null,
   "metadata": {},
   "outputs": [],
   "source": [
    "graph.dfs('G0')"
   ]
  },
  {
   "cell_type": "markdown",
   "metadata": {},
   "source": [
    "### Dijsktra's Shortest Path\n",
    "The *dijsktra_shortest_path* method of the class object prints the shortest path to all the nodes in the graph from the starting node given as input as *nodename*. The function also prints the parent node every node in the shortest path."
   ]
  },
  {
   "cell_type": "code",
   "execution_count": null,
   "metadata": {},
   "outputs": [],
   "source": [
    "graph.dijsktra_shortest_path('G0')"
   ]
  },
  {
   "cell_type": "markdown",
   "metadata": {},
   "source": [
    "The *print_shortest_path* method accepts 2 input *nodenames* and prints the shortest path between the nodes along with the intermediate nodes."
   ]
  },
  {
   "cell_type": "code",
   "execution_count": null,
   "metadata": {},
   "outputs": [],
   "source": [
    "graph.print_shortest_path('G0', 'G17')"
   ]
  },
  {
   "cell_type": "markdown",
   "metadata": {},
   "source": [
    "### Minimum Spanning Tree\n",
    "The *prim_minimum_spanning_tree* method of the class object generates the minimum spanning tree using the Prim's Algorithm starting from the starting node given as input. The function prints out the edges to all nodes in the tree."
   ]
  },
  {
   "cell_type": "code",
   "execution_count": null,
   "metadata": {},
   "outputs": [],
   "source": [
    "graph.prim_minimum_spanning_tree('G0')"
   ]
  },
  {
   "cell_type": "markdown",
   "metadata": {},
   "source": [
    "## Partitioning\n",
    "### Kernighan Lin Partition\n",
    "The *kl_partition* method of the class object creates a bi-partition of all the nodes in the netlist based on K-L Partition Algorithm. The Difference Cost for all nodes and Swapping Gain cost for every swap is listed along at each iteration"
   ]
  },
  {
   "cell_type": "code",
   "execution_count": null,
   "metadata": {},
   "outputs": [],
   "source": [
    "graph.kl_partition()"
   ]
  },
  {
   "cell_type": "markdown",
   "metadata": {},
   "source": [
    "## Partitioning\n",
    "### Simulated Annealing Based partitioning\n",
    "The *simulated_annealing+partition* method of the class object produces a bi-partition with minimal cost after the simulated annealing process of swapping nodes between partitions. The cost of the partitions are calculated based on the cut-size and size of individual partitions as:\n",
    "#### partition_cost = cut-size cost + cost_lambda * size_balance_cost\n",
    "The simulated annealing process is stopped if there is no futher decrease in best partition cost across 5 temperatures\n",
    "\n",
    "The inputs to the function are:\n",
    "1. Initial Temperature *init_temp*\n",
    "2. Temperature Cooling rate *r*\n",
    "3. Multiplication factor for balance cost *cost_lambda*"
   ]
  },
  {
   "cell_type": "code",
   "execution_count": null,
   "metadata": {},
   "outputs": [],
   "source": [
    "graph.simulated_annealing_partition(init_temp = 20, r = 0.9, cost_lambda = 1)"
   ]
  },
  {
   "cell_type": "markdown",
   "metadata": {},
   "source": [
    "## Floorplan\n",
    "### Simulated Annealing Process\n",
    "The *floorplan_simulated_annealing* method of the class object generated the floorplan with minimal cost using the best skewed-slicing tree. The following moves are performed during simulated annealing Process:\n",
    "\n",
    "M1: Swapping adjacent operands\n",
    "\n",
    "M2: Inverting successive operators\n",
    "\n",
    "M3: Swapping adjacent operator and operand*\n",
    "\n",
    "The cost of the floorplan is calculated based on the area used by floorplan and wiring cost. The final output of the function is the best skewed-slicing tree and the floorplan layout for the same is produced as output using the PIL Image library.\n",
    "\n",
    "#### The inputs the function are:\n",
    "1. GATE_SIZES: A dictionary representing all gate sizes. An in-build GATE_SIZES dictionary is created in the project directory which can be used for testing purposes.\n",
    "2. T0: Initial temperature for simulated annealing process\n",
    "3. Tf: Final temperature for simulated annealing process\n",
    "4. r: Cooling Rate of the simulated annealing process\n",
    "5. k: Average number of steps per gate to be performed at each temperature\n",
    "6. lambda_cost: The multiplication factor for wiring cost"
   ]
  },
  {
   "cell_type": "code",
   "execution_count": null,
   "metadata": {},
   "outputs": [],
   "source": [
    "graph.floorplan_simulated_annealing(GATE_SIZES, T0 = 270, Tf = 10, r = 0.85, k=10, lambda_cost = 0.5)"
   ]
  },
  {
   "cell_type": "markdown",
   "metadata": {},
   "source": [
    "## Placement\n",
    "### Simulated Annealing Process\n",
    "The *placement_simulated_annealing* method of the class object produces a placement with best cost. The objective of placement is to confine the floorplan in the core area with minimal overlap between modules and minimal wiring length. The simulated annealing process is based on the following moves:\n",
    "\n",
    "M1: Displace: Choose a random block and move it to new location with core area.\n",
    "M2: Interchange: Swap any 2 blocks within the core area.\n",
    "M3: Flip: Change the orientation of the block within the core area\n",
    "\n",
    "The final output of the placement is fixing the position for each block. The function produces the layout of the core using PIL Image Library.\n",
    "\n",
    "### NOTE: FLOORPLAN IS NECESSARY TO PERFORM PLACEMENT\n",
    "\n",
    "#### The inputs to the method are:\n",
    "1. GATE_SIZES: A dictionary representing all gate sizes. An in-build GATE_SIZES dictionary is created in the project directory.\n",
    "2. target_density: The target density to be achieved by placement\n",
    "3. aspect_ratio: The ratio of length to breadth of the core area\n",
    "4. routing_per_cell: The number of routing that can be performed in a core cell.\n",
    "5. T0: Initial temperature for simulated annealing process\n",
    "6. Tf: Final temperature for simulated annealing process\n",
    "7. r: Cooling Rate of the simulated annealing process\n",
    "8. k: Average number of steps per gate to be performed at each temperature\n",
    "9. lambda_overlapcost: The multiplication factor for area overlap between block, usually too large as no overlaps are desired"
   ]
  },
  {
   "cell_type": "code",
   "execution_count": null,
   "metadata": {},
   "outputs": [],
   "source": [
    "graph.placement_simulated_annealing(GATE_SIZES, target_density = 0.7, aspect_ratio = 1, routing_per_cell=4, \n",
    "                                        T0 = 273, Tf = 10, k=10, r=0.95, lambda_overlap_cost = 100000)"
   ]
  },
  {
   "cell_type": "markdown",
   "metadata": {},
   "source": [
    "## Routing\n",
    "### Maze Routing\n",
    "The *maze_routing* process produces a 2-layer routing network based on the placement of modules using the Maze Routing Algorithm. The routing layers route the nets in the following order:\n",
    "Routing Layer-1: Performs only horizontal wiring between any 2 points\n",
    "Routing Layer-2: Performs only vertical wiring between any 2 points\n",
    "\n",
    "The function generates the layouts for the 2 layers in routing along with information about the sources and targets routed.\n",
    "\n",
    "### NOTE: FLOORPLAN AND PLACEMENT ARE NECESSARY TO PERFORM ROUTING\n",
    "\n",
    "#### The inputs to the function are:\n",
    "1. routing_per_cell: The number of routing that can be performed in a placement cell."
   ]
  },
  {
   "cell_type": "code",
   "execution_count": null,
   "metadata": {},
   "outputs": [],
   "source": [
    "graph.maze_routing(routing_per_cell=4)"
   ]
  }
 ],
 "metadata": {
  "kernelspec": {
   "display_name": "Python 3",
   "language": "python",
   "name": "python3"
  },
  "language_info": {
   "codemirror_mode": {
    "name": "ipython",
    "version": 3
   },
   "file_extension": ".py",
   "mimetype": "text/x-python",
   "name": "python",
   "nbconvert_exporter": "python",
   "pygments_lexer": "ipython3",
   "version": "3.8.5"
  }
 },
 "nbformat": 4,
 "nbformat_minor": 4
}
